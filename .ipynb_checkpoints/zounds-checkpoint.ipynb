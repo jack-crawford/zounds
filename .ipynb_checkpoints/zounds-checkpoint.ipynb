{
 "cells": [
  {
   "cell_type": "code",
   "execution_count": 13,
   "metadata": {},
   "outputs": [],
   "source": [
    "import tempfile\n",
    "import os\n",
    "import pydub\n",
    "import scipy\n",
    "import scipy.io.wavfile\n",
    "import numpy as np\n",
    "import sklearn\n",
    "import tensorflow as tf\n",
    "import random\n",
    "from sklearn import neighbors\n",
    "from sklearn import svm\n",
    "from sklearn.model_selection import train_test_split\n",
    "from sklearn.decomposition import PCA\n",
    "from sklearn.cluster import KMeans\n",
    "from sklearn.mixture import GaussianMixture\n",
    "from math import sqrt"
   ]
  },
  {
   "cell_type": "code",
   "execution_count": 5,
   "metadata": {},
   "outputs": [],
   "source": [
    "def read_mp3(file_path, as_float = False):\n",
    "    \"\"\"\n",
    "    Read an MP3 File into numpy data.\n",
    "    :param file_path: String path to a file\n",
    "    :param as_float: Cast data to float and normalize to [-1, 1]\n",
    "    :return: Tuple(rate, data), where\n",
    "        rate is an integer indicating samples/s\n",
    "        data is an ndarray(n_samples, 2)[int16] if as_float = False\n",
    "            otherwise ndarray(n_samples, 2)[float] in range [-1, 1]\n",
    "    \"\"\"\n",
    "\n",
    "    path, ext = os.path.splitext(file_path)\n",
    "    assert ext=='.mp3'\n",
    "    mp3 = pydub.AudioSegment.from_mp3(file_path)\n",
    "    _, path = tempfile.mkstemp()\n",
    "    mp3.export(path, format=\"wav\")\n",
    "    rate, data = scipy.io.wavfile.read(path)\n",
    "    os.remove(path)\n",
    "    if as_float:\n",
    "        data = data/(2**15)\n",
    "    return rate, data"
   ]
  },
  {
   "cell_type": "code",
   "execution_count": 6,
   "metadata": {},
   "outputs": [],
   "source": [
    "def NN(m1, m2, w1, w2, b):\n",
    "    z = m1 * w1 + m2 * w2 + b\n",
    "    return sig(z)"
   ]
  },
  {
   "cell_type": "code",
   "execution_count": 7,
   "metadata": {},
   "outputs": [],
   "source": [
    "def sig(x):\n",
    "    return 1/(1 + np.exp(-x))"
   ]
  },
  {
   "cell_type": "code",
   "execution_count": 20,
   "metadata": {},
   "outputs": [],
   "source": [
    "def songArray(name):\n",
    "    songLoad = read_mp3(name, True)\n",
    "    songArray = np.asarray(songLoad[1])\n",
    "    songArray.setflags(write=1)\n",
    "    print(len(songArray))\n",
    "    return songArray"
   ]
  },
  {
   "cell_type": "code",
   "execution_count": 21,
   "metadata": {},
   "outputs": [
    {
     "name": "stdout",
     "output_type": "stream",
     "text": [
      "16596888\n"
     ]
    },
    {
     "data": {
      "text/plain": [
       "16596888"
      ]
     },
     "execution_count": 21,
     "metadata": {},
     "output_type": "execute_result"
    }
   ],
   "source": [
    "grey1 = songArray(\"touchOfGrey1.mp3\")\n",
    "len(grey1)"
   ]
  },
  {
   "cell_type": "code",
   "execution_count": 25,
   "metadata": {},
   "outputs": [],
   "source": [
    "#reducing one\n",
    "reduce = PCA(n_components = 1)\n",
    "eigenbasisReduction = reduce.fit(grey1)\n",
    "grey1PCA = eigenbasisReduction.transform(grey1)"
   ]
  },
  {
   "cell_type": "code",
   "execution_count": 26,
   "metadata": {},
   "outputs": [
    {
     "data": {
      "text/plain": [
       "array([[0.0341187 ],\n",
       "       [0.04563597],\n",
       "       [0.03529799],\n",
       "       [0.02545164],\n",
       "       [0.02622713],\n",
       "       [0.03111171],\n",
       "       [0.03167886],\n",
       "       [0.02128172],\n",
       "       [0.01350841],\n",
       "       [0.0200826 ]])"
      ]
     },
     "execution_count": 26,
     "metadata": {},
     "output_type": "execute_result"
    }
   ],
   "source": [
    "grey1PCA[:10]"
   ]
  },
  {
   "cell_type": "code",
   "execution_count": 30,
   "metadata": {},
   "outputs": [
    {
     "name": "stdout",
     "output_type": "stream",
     "text": [
      "[-0.0255302  -0.02262957]\n",
      "[-0.04986572  0.00482178]\n"
     ]
    }
   ],
   "source": [
    "mu = np.mean(grey1, axis=0)\n",
    "nComp = 2\n",
    "Xhat = np.dot(eigenbasisReduction.transform(grey1)[:,:nComp], eigenbasisReduction.components_[:nComp,:])\n",
    "Xhat += mu\n",
    "print(Xhat[0,])\n",
    "print(grey1[0,])\n"
   ]
  },
  {
   "cell_type": "code",
   "execution_count": null,
   "metadata": {},
   "outputs": [],
   "source": [
    "grey2 = songArray(\"touchOfGrey2.mp3\")"
   ]
  },
  {
   "cell_type": "code",
   "execution_count": 10,
   "metadata": {},
   "outputs": [
    {
     "name": "stdout",
     "output_type": "stream",
     "text": [
      "(44100, array([[-0.00073242, -0.00042725],\n",
      "       [-0.00088501, -0.00057983],\n",
      "       [-0.00097656, -0.00048828],\n",
      "       ...,\n",
      "       [ 0.        ,  0.        ],\n",
      "       [ 0.        ,  0.        ],\n",
      "       [ 0.        ,  0.        ]]))\n"
     ]
    }
   ],
   "source": [
    "louie = read_mp3(\"louie.mp3\", True)\n",
    "print(louie)\n",
    "#print(louie[1][:20])\n"
   ]
  },
  {
   "cell_type": "code",
   "execution_count": 11,
   "metadata": {},
   "outputs": [
    {
     "name": "stdout",
     "output_type": "stream",
     "text": [
      "2797397\n"
     ]
    }
   ],
   "source": [
    "louieMan = np.asarray(louie[1])\n",
    "print(len(louieMan))\n",
    "louieMan.setflags(write=1)"
   ]
  },
  {
   "cell_type": "code",
   "execution_count": 12,
   "metadata": {},
   "outputs": [],
   "source": [
    "for i in range(len(louieMan)):\n",
    "    louieMan[i] = [random.uniform(0.1, 0.2), random.uniform(0.8, 0.9)]\n",
    "    #print(louieMan[i])"
   ]
  },
  {
   "cell_type": "code",
   "execution_count": 73,
   "metadata": {},
   "outputs": [
    {
     "name": "stdout",
     "output_type": "stream",
     "text": [
      "[[0.1523064  0.84370144]\n",
      " [0.14633735 0.81971713]\n",
      " [0.12547811 0.84496002]\n",
      " ...\n",
      " [0.16114986 0.87772353]\n",
      " [0.13148218 0.82814405]\n",
      " [0.13186835 0.83791188]]\n"
     ]
    }
   ],
   "source": []
  },
  {
   "cell_type": "code",
   "execution_count": 85,
   "metadata": {},
   "outputs": [],
   "source": [
    "scipy.io.wavfile.write('teev.wav',44100,louieMan)"
   ]
  },
  {
   "cell_type": "code",
   "execution_count": null,
   "metadata": {},
   "outputs": [],
   "source": [
    "track = np.zeros(shape=(2797397,2))\n",
    "x = 0.00001\n",
    "for i in range(len(track)):\n",
    "    track[i] = [0, x]\n",
    "    print(track[i])"
   ]
  },
  {
   "cell_type": "code",
   "execution_count": 86,
   "metadata": {},
   "outputs": [],
   "source": [
    "scipy.io.wavfile.write('new.wav',44100,track)"
   ]
  },
  {
   "cell_type": "code",
   "execution_count": null,
   "metadata": {},
   "outputs": [],
   "source": []
  }
 ],
 "metadata": {
  "kernelspec": {
   "display_name": "Python 3",
   "language": "python",
   "name": "python3"
  },
  "language_info": {
   "codemirror_mode": {
    "name": "ipython",
    "version": 3
   },
   "file_extension": ".py",
   "mimetype": "text/x-python",
   "name": "python",
   "nbconvert_exporter": "python",
   "pygments_lexer": "ipython3",
   "version": "3.6.5"
  }
 },
 "nbformat": 4,
 "nbformat_minor": 2
}
