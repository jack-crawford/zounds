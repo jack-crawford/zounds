{
 "cells": [
  {
   "cell_type": "code",
   "execution_count": 58,
   "metadata": {},
   "outputs": [
    {
     "name": "stderr",
     "output_type": "stream",
     "text": [
      "/anaconda3/lib/python3.6/site-packages/h5py/__init__.py:36: FutureWarning: Conversion of the second argument of issubdtype from `float` to `np.floating` is deprecated. In future, it will be treated as `np.float64 == np.dtype(float).type`.\n",
      "  from ._conv import register_converters as _register_converters\n"
     ]
    }
   ],
   "source": [
    "import tempfile\n",
    "import os\n",
    "import pydub\n",
    "import scipy\n",
    "import scipy.io.wavfile\n",
    "import numpy as np\n",
    "import sklearn\n",
    "import tensorflow as tf\n",
    "import random"
   ]
  },
  {
   "cell_type": "code",
   "execution_count": 59,
   "metadata": {},
   "outputs": [],
   "source": [
    "def read_mp3(file_path, as_float = False):\n",
    "    \"\"\"\n",
    "    Read an MP3 File into numpy data.\n",
    "    :param file_path: String path to a file\n",
    "    :param as_float: Cast data to float and normalize to [-1, 1]\n",
    "    :return: Tuple(rate, data), where\n",
    "        rate is an integer indicating samples/s\n",
    "        data is an ndarray(n_samples, 2)[int16] if as_float = False\n",
    "            otherwise ndarray(n_samples, 2)[float] in range [-1, 1]\n",
    "    \"\"\"\n",
    "\n",
    "    path, ext = os.path.splitext(file_path)\n",
    "    assert ext=='.mp3'\n",
    "    mp3 = pydub.AudioSegment.from_mp3(file_path)\n",
    "    _, path = tempfile.mkstemp()\n",
    "    mp3.export(path, format=\"wav\")\n",
    "    rate, data = scipy.io.wavfile.read(path)\n",
    "    os.remove(path)\n",
    "    if as_float:\n",
    "        data = data/(2**15)\n",
    "    return rate, data"
   ]
  },
  {
   "cell_type": "code",
   "execution_count": 60,
   "metadata": {},
   "outputs": [
    {
     "name": "stdout",
     "output_type": "stream",
     "text": [
      "(44100, array([[-0.00073242, -0.00042725],\n",
      "       [-0.00088501, -0.00057983],\n",
      "       [-0.00097656, -0.00048828],\n",
      "       ...,\n",
      "       [ 0.        ,  0.        ],\n",
      "       [ 0.        ,  0.        ],\n",
      "       [ 0.        ,  0.        ]]))\n"
     ]
    }
   ],
   "source": [
    "louie = read_mp3(\"louie.mp3\", True)\n",
    "print(louie)\n",
    "#print(louie[1][:20])\n"
   ]
  },
  {
   "cell_type": "code",
   "execution_count": 75,
   "metadata": {},
   "outputs": [
    {
     "name": "stdout",
     "output_type": "stream",
     "text": [
      "2797397\n"
     ]
    }
   ],
   "source": [
    "louieMan = np.asarray(louie[1])\n",
    "print(len(louieMan))\n",
    "louieMan.setflags(write=1)"
   ]
  },
  {
   "cell_type": "code",
   "execution_count": 72,
   "metadata": {},
   "outputs": [],
   "source": [
    "for i in range(len(louieMan)):\n",
    "    louieMan[i] = [random.uniform(0.1, 0.2), random.uniform(0.8, 0.9)]\n",
    "    #print(louieMan[i])"
   ]
  },
  {
   "cell_type": "code",
   "execution_count": 73,
   "metadata": {},
   "outputs": [
    {
     "name": "stdout",
     "output_type": "stream",
     "text": [
      "[[0.1523064  0.84370144]\n",
      " [0.14633735 0.81971713]\n",
      " [0.12547811 0.84496002]\n",
      " ...\n",
      " [0.16114986 0.87772353]\n",
      " [0.13148218 0.82814405]\n",
      " [0.13186835 0.83791188]]\n"
     ]
    }
   ],
   "source": [
    "print(louieMan[30:])"
   ]
  },
  {
   "cell_type": "code",
   "execution_count": 85,
   "metadata": {},
   "outputs": [],
   "source": [
    "scipy.io.wavfile.write('teev.wav',44100,louieMan)"
   ]
  },
  {
   "cell_type": "code",
   "execution_count": null,
   "metadata": {},
   "outputs": [],
   "source": [
    "track = np.zeros(shape=(2797397,2))\n",
    "x = 0.00001\n",
    "for i in range(len(track)):\n",
    "    track[i] = [0, x]\n",
    "    print(track[i])"
   ]
  },
  {
   "cell_type": "code",
   "execution_count": 86,
   "metadata": {},
   "outputs": [],
   "source": [
    "scipy.io.wavfile.write('new.wav',44100,track)"
   ]
  },
  {
   "cell_type": "code",
   "execution_count": null,
   "metadata": {},
   "outputs": [],
   "source": []
  }
 ],
 "metadata": {
  "kernelspec": {
   "display_name": "Python 3",
   "language": "python",
   "name": "python3"
  },
  "language_info": {
   "codemirror_mode": {
    "name": "ipython",
    "version": 3
   },
   "file_extension": ".py",
   "mimetype": "text/x-python",
   "name": "python",
   "nbconvert_exporter": "python",
   "pygments_lexer": "ipython3",
   "version": "3.6.5"
  }
 },
 "nbformat": 4,
 "nbformat_minor": 2
}
